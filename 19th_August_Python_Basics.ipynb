{
 "cells": [
  {
   "cell_type": "code",
   "execution_count": 29,
   "id": "afbb5799-e65c-4e19-9101-f1a651712c1b",
   "metadata": {},
   "outputs": [],
   "source": [
    "# Problem1: swap 2 variables without using 3rd variable\n",
    "\n",
    "x = 1\n",
    "y = 3\n",
    "\n",
    "# y = 3-1 = 2\n",
    "y = y - x \n",
    "\n",
    "# x = 1+2 = 3\n",
    "x = x + y \n",
    "\n",
    "# y = 3-2 = 1\n",
    "y = x - y "
   ]
  },
  {
   "cell_type": "code",
   "execution_count": 37,
   "id": "e347f5c1-5587-4817-ad0c-0bc3c99f0d8d",
   "metadata": {},
   "outputs": [
    {
     "name": "stdin",
     "output_type": "stream",
     "text": [
      "Enter the length of the rectangle:  2\n",
      "\n",
      "Enter the width of the rectangle:  4\n"
     ]
    },
    {
     "name": "stdout",
     "output_type": "stream",
     "text": [
      "\n",
      "The area of the rectangle is: 8.0 sq. units.\n"
     ]
    }
   ],
   "source": [
    "# Problem2: area of rectangle\n",
    "\n",
    "# take input of length as float\n",
    "l = float(input(\"Enter the length of the rectangle: \"))\n",
    "\n",
    "# take input of width as float\n",
    "w = float(input(\"\\nEnter the width of the rectangle: \"))\n",
    "\n",
    "# calculate area as product of length and width\n",
    "area = l*w\n",
    "\n",
    "#print the area after converting it to string before concatenation\n",
    "print(\"\\nThe area of the rectangle is: \"+str(area)+\" sq. units.\")"
   ]
  },
  {
   "cell_type": "code",
   "execution_count": 44,
   "id": "7bc0d050-81bb-4b7f-81ae-da77dd6559a1",
   "metadata": {},
   "outputs": [
    {
     "name": "stdin",
     "output_type": "stream",
     "text": [
      "Enter temperature in celcius:  2\n"
     ]
    },
    {
     "name": "stdout",
     "output_type": "stream",
     "text": [
      "2.0 deg. C = 35.6 deg. F\n"
     ]
    }
   ],
   "source": [
    "# Problem 3: Celcius to Fahrenheit\n",
    "\n",
    "# take celcius as input\n",
    "celcius = float(input(\"Enter temperature in celcius: \"))\n",
    "\n",
    "# calculate fahrenheit\n",
    "fahrenheit = float(((celcius * 9)/5)+32)\n",
    "\n",
    "# print fahrenheit with result corrected to 2 decimal places\n",
    "print(str(round(celcius,2))+\" deg. C = \"+str(round(fahrenheit,2))+\" deg. F\")"
   ]
  },
  {
   "cell_type": "code",
   "execution_count": 49,
   "id": "62a2f1ec-f488-4ef7-83a0-6aa950c59f29",
   "metadata": {},
   "outputs": [
    {
     "name": "stdin",
     "output_type": "stream",
     "text": [
      "Enter the string input:  physics wallah\n"
     ]
    },
    {
     "name": "stdout",
     "output_type": "stream",
     "text": [
      "Length of the input string is: 14\n"
     ]
    }
   ],
   "source": [
    "# String based problems\n",
    "# Problem4: take input as string and print its length\n",
    "\n",
    "# take string input\n",
    "stringInput = input(\"Enter the string input: \")\n",
    "\n",
    "# print its length after typecasting and concatenation\n",
    "print(\"Length of the input string is: \"+str(len(stringInput)))"
   ]
  },
  {
   "cell_type": "code",
   "execution_count": 62,
   "id": "a543779c-ebb0-4806-accc-b93e61d515ed",
   "metadata": {},
   "outputs": [
    {
     "name": "stdin",
     "output_type": "stream",
     "text": [
      "Enter sentence:  Ram is a good boy\n"
     ]
    },
    {
     "name": "stdout",
     "output_type": "stream",
     "text": [
      "Towel number of vowels in the sentence is 6 and they are: \n",
      "A = 2\n",
      "E = 0\n",
      "I = 1\n",
      "O = 3\n",
      "U = 0\n",
      "respectively\n"
     ]
    }
   ],
   "source": [
    "# String based problems\n",
    "# Problem5: count number of vowels in the string\n",
    "\n",
    "# take sentence input\n",
    "sentence = input(\"Enter sentence: \")\n",
    "\n",
    "# convert sentence to lower case to take both small and capital letters into consideration\n",
    "sentence = sentence.lower()\n",
    "\n",
    "# initialise the counts of all the vowels as 0  for each\n",
    "countA, countE, countI, countO, countU = 0, 0, 0, 0, 0\n",
    "\n",
    "# take a loop in the string and count the times each vowel is occuring and increment every occurence of each vowel by +1\n",
    "for i in sentence:\n",
    "    if i == 'a':\n",
    "        countA+=1\n",
    "    elif i == 'e':\n",
    "        countE+=1\n",
    "    elif i == 'i':\n",
    "        countI+=1\n",
    "    elif i == 'o':\n",
    "        countO+=1\n",
    "    elif i == 'u':\n",
    "        countU+=1\n",
    "\n",
    "# take total count of the vowel and print them with typecasting before concatenation\n",
    "total = countA+countE+countI+countO+countU\n",
    "print(\"Towel number of vowels in the sentence is \"+str(total)+\" and they are: \")\n",
    "print(\"A = \"+str(countA)+\"\\nE = \"+str(countE)+\"\\nI = \"+str(countI)+\"\\nO = \"+str(countO)+\"\\nU = \"+str(countU)+\"\\nrespectively\")"
   ]
  },
  {
   "cell_type": "code",
   "execution_count": 68,
   "id": "562faf1e-eabc-4e01-b991-69d6211c2572",
   "metadata": {},
   "outputs": [
    {
     "name": "stdin",
     "output_type": "stream",
     "text": [
      "Enter the string input:  Snehadeep\n"
     ]
    },
    {
     "name": "stdout",
     "output_type": "stream",
     "text": [
      "peedahenS\n"
     ]
    }
   ],
   "source": [
    "# String based problems\n",
    "# Problem6: Reverse order of String using String slicing\n",
    "\n",
    "#take input of string\n",
    "inputString = input(\"Enter the string input: \")\n",
    "\n",
    "#reverse it using string slicing\n",
    "reversedString = inputString[::-1]\n",
    "\n",
    "#print the reversed string\n",
    "print(reversedString)"
   ]
  },
  {
   "cell_type": "code",
   "execution_count": 73,
   "id": "a4c95a9b-2d55-4213-94da-828ef170ec7a",
   "metadata": {},
   "outputs": [
    {
     "name": "stdin",
     "output_type": "stream",
     "text": [
      "Enter the string input:  snehadeep\n"
     ]
    },
    {
     "name": "stdout",
     "output_type": "stream",
     "text": [
      "snehadeep is NOT a palindrome\n"
     ]
    }
   ],
   "source": [
    "# String based problems\n",
    "# Problem7: String palindrome\n",
    "\n",
    "#take input\n",
    "inputStr = input(\"Enter the string input: \")\n",
    "\n",
    "#reverse the input string\n",
    "reversedStr = inputStr[::-1]\n",
    "\n",
    "#check for palindrome and print result\n",
    "if(inputStr == reversedStr):\n",
    "    print(inputStr+\" is a palindrome\")\n",
    "else: print(inputStr+\" is NOT a palindrome\")"
   ]
  },
  {
   "cell_type": "code",
   "execution_count": 74,
   "id": "04bd88ce-9d1b-4866-82ec-52a1c6903906",
   "metadata": {},
   "outputs": [
    {
     "name": "stdin",
     "output_type": "stream",
     "text": [
      "Enter the string input:  I         am a   good boy\n"
     ]
    },
    {
     "name": "stdout",
     "output_type": "stream",
     "text": [
      "Iamagoodboy\n"
     ]
    }
   ],
   "source": [
    "# String based problems\n",
    "# Problem7: Remove Spaces from String Input\n",
    "\n",
    "#take String Input\n",
    "inputStr1 = input(\"Enter the string input: \")\n",
    "\n",
    "#Remove spaces\n",
    "print(inputStr1.replace(\" \",\"\"))"
   ]
  },
  {
   "cell_type": "code",
   "execution_count": null,
   "id": "d056b528-94be-44e5-8018-d1896c85ecdb",
   "metadata": {},
   "outputs": [],
   "source": []
  }
 ],
 "metadata": {
  "kernelspec": {
   "display_name": "Python 3 (ipykernel)",
   "language": "python",
   "name": "python3"
  },
  "language_info": {
   "codemirror_mode": {
    "name": "ipython",
    "version": 3
   },
   "file_extension": ".py",
   "mimetype": "text/x-python",
   "name": "python",
   "nbconvert_exporter": "python",
   "pygments_lexer": "ipython3",
   "version": "3.10.8"
  }
 },
 "nbformat": 4,
 "nbformat_minor": 5
}
